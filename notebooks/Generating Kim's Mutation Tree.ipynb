{
 "cells": [
  {
   "cell_type": "code",
   "execution_count": 1,
   "metadata": {
    "collapsed": true
   },
   "outputs": [],
   "source": [
    "import matplotlib.pyplot as plt\n",
    "import networkx as nx\n",
    "import random as rand\n",
    "import numpy as np\n",
    "import scipy\n",
    "import prior_calc\n",
    "import posterior_calc\n",
    "import collections\n",
    "from networkx.algorithms.traversal.depth_first_search import dfs_tree\n",
    "import tree_generation\n",
    "import data_reader\n",
    "import generate_test_data\n",
    "import tree_comparison"
   ]
  },
  {
   "cell_type": "code",
   "execution_count": 2,
   "metadata": {
    "collapsed": false
   },
   "outputs": [
    {
     "name": "stderr",
     "output_type": "stream",
     "text": [
      "C:\\Anaconda2\\lib\\site-packages\\openpyxl\\workbook\\names\\named_range.py:124: UserWarning: Discarded range with reserved name\n",
      "  warnings.warn(\"Discarded range with reserved name\")\n"
     ]
    }
   ],
   "source": [
    "# This is for using Kim/Simon's true data\n",
    "\n",
    "num_cells = 58\n",
    "\n",
    "#read the data and get the information for the 18 genes describes in the paper\n",
    "mutation_data = data_reader.data_reader('data_mmc2.xlsx')\n",
    "target = ['PDE4DIP(A->G)', 'NTRK1(A->G)', 'SESN2(C->T)', 'ARHGAP5(G->A)', 'DNAJC17(C->G)', 'USP32(C->T)', \n",
    "          'ANAPC1(G->A)', 'RETSAT(C->T)', 'ST13(G->A)', 'DLEC1(T->C)', 'FRG1(G->A)', 'DMXL1(G->A)', 'FAM115C(T->C)', \n",
    "          'MLL3(C->T)', 'ABCB5(G->T)', 'ASNS(T->A)', 'PABPC1(C->T)', 'TOP1MT(A->G)']\n",
    "\n",
    "important_gene = collections.OrderedDict()\n",
    "for gene in target:\n",
    "    important_gene[gene] = mutation_data.get_gene_mutations(gene)\n",
    "data = important_gene"
   ]
  },
  {
   "cell_type": "code",
   "execution_count": 52,
   "metadata": {
    "collapsed": true
   },
   "outputs": [],
   "source": [
    "# This cell evaluates all the priors without error probabilities\n",
    "reload(prior_calc)\n",
    "priors_pure = prior_calc.prior_calculator(num_cells, .95, Btree=100, Bmut=10000)\n",
    "priors_pure.simulate()\n",
    "priors_pure.compute_final_probs()\n",
    "prior_probabilities_pure = priors_pure.return_priors()"
   ]
  },
  {
   "cell_type": "code",
   "execution_count": 49,
   "metadata": {
    "collapsed": true
   },
   "outputs": [],
   "source": [
    "# Calculate posteriors and construct the tree\n",
    "posteriors = posterior_calc.posterior_calculator(data, prior_probabilities_pure, num_cells)\n",
    "posteriors.calculate_likelihood()\n",
    "posteriors.calculate_posteriors()\n",
    "posterior_probabilities = posteriors.return_posteriors()\n",
    "tree_generator = tree_generation.tree_generation(posterior_probabilities)\n",
    "inferred_tree = tree_generator.get_min_tree()"
   ]
  },
  {
   "cell_type": "code",
   "execution_count": 50,
   "metadata": {
    "collapsed": false
   },
   "outputs": [],
   "source": [
    "#tree_generator.print_tree(inferred_tree)\n",
    "G = inferred_tree\n",
    "pos = nx.spring_layout(G,scale=1)\n",
    "labels=nx.draw_networkx_labels(G,pos)\n",
    "nx.draw(G,pos,font_size=8)\n",
    "plt.show()"
   ]
  },
  {
   "cell_type": "code",
   "execution_count": 134,
   "metadata": {
    "collapsed": false
   },
   "outputs": [
    {
     "data": {
      "text/plain": [
       "0.64052287581699341"
      ]
     },
     "execution_count": 134,
     "metadata": {},
     "output_type": "execute_result"
    }
   ],
   "source": [
    "#Kim's tree\n",
    "kim_tree = nx.DiGraph()\n",
    "kim_tree.add_edge('DLEC1(T->C)','USP32(C->T)')\n",
    "kim_tree.add_edge('DLEC1(T->C)','DNAJC17(C->G)')\n",
    "kim_tree.add_edge('DLEC1(T->C)','ABCB5(G->T)')\n",
    "kim_tree.add_edge('DNAJC17(C->G)','ST13(G->A)')\n",
    "kim_tree.add_edge('DNAJC17(C->G)','NTRK1(A->G)')\n",
    "kim_tree.add_edge('NTRK1(A->G)', 'DMXL1(G->A)')\n",
    "kim_tree.add_edge('DMXL1(G->A)','TOP1MT(A->G)')\n",
    "kim_tree.add_edge('TOP1MT(A->G)','SESN2(C->T)')\n",
    "kim_tree.add_edge('SESN2(C->T)','ASNS(T->A)')\n",
    "kim_tree.add_edge('SESN2(C->T)','MLL3(C->T)')\n",
    "kim_tree.add_edge('SESN2(C->T)','FRG1(G->A)')\n",
    "kim_tree.add_edge('SESN2(C->T)','PABPC1(C->T)')\n",
    "kim_tree.add_edge('SESN2(C->T)','FAM115C(T->C)')\n",
    "kim_tree.add_edge('SESN2(C->T)','PDE4DIP(A->G)')\n",
    "kim_tree.add_edge('SESN2(C->T)','ANAPC1(G->A)')\n",
    "kim_tree.add_edge('SESN2(C->T)','ARHGAP5(G->A)')\n",
    "kim_tree.add_edge('SESN2(C->T)','RETSAT(C->T)')\n",
    "\n",
    "tree_comparison.compare_mutation_order(kim_tree, inferred_tree)\n"
   ]
  }
 ],
 "metadata": {
  "kernelspec": {
   "display_name": "Python 2",
   "language": "python",
   "name": "python2"
  },
  "language_info": {
   "codemirror_mode": {
    "name": "ipython",
    "version": 2
   },
   "file_extension": ".py",
   "mimetype": "text/x-python",
   "name": "python",
   "nbconvert_exporter": "python",
   "pygments_lexer": "ipython2",
   "version": "2.7.11"
  }
 },
 "nbformat": 4,
 "nbformat_minor": 0
}
