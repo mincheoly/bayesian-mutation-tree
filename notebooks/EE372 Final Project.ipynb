{
 "cells": [
  {
   "cell_type": "code",
   "execution_count": 1,
   "metadata": {
    "collapsed": false
   },
   "outputs": [],
   "source": [
    "import matplotlib.pyplot as plt\n",
    "import networkx as nx\n",
    "import random as rand\n",
    "import numpy as np\n",
    "import scipy\n",
    "import prior_calc\n",
    "import posterior_calc\n",
    "import collections\n",
    "from networkx.algorithms.traversal.depth_first_search import dfs_tree\n",
    "import tree_generation\n",
    "import data_reader\n",
    "import generate_test_data\n",
    "import tree_comparison"
   ]
  },
  {
   "cell_type": "code",
   "execution_count": 9,
   "metadata": {
    "collapsed": false
   },
   "outputs": [
    {
     "data": {
      "text/plain": [
       "<module 'generate_test_data' from 'generate_test_data.pyc'>"
      ]
     },
     "execution_count": 9,
     "metadata": {},
     "output_type": "execute_result"
    }
   ],
   "source": [
    "reload(prior_calc)\n",
    "reload(generate_test_data)"
   ]
  },
  {
   "cell_type": "code",
   "execution_count": 3,
   "metadata": {
    "collapsed": false
   },
   "outputs": [
    {
     "name": "stdout",
     "output_type": "stream",
     "text": [
      "For ALPHA=0.3, NUM_CELLS=58, NUM_MUTS= 18, score=0.52985620915\n",
      "For ALPHA=0.5, NUM_CELLS=58, NUM_MUTS= 18, score=0.387215686275\n",
      "For ALPHA=0.7, NUM_CELLS=58, NUM_MUTS= 18, score=0.282797385621\n",
      "For ALPHA=0.9, NUM_CELLS=58, NUM_MUTS= 18, score=0.203483660131\n"
     ]
    }
   ],
   "source": [
    "# METADATA\n",
    "NUM_TRIALS = 1000\n",
    "for ALPHA in [0.3, 0.5, 0.7, 0.9]:\n",
    "    for NUM_CELLS in [58]:\n",
    "        # This cell evaluates all the priors with error probabilities\n",
    "        priors = prior_calc.prior_calculator(NUM_CELLS, ALPHA, Btree=100, Bmut=10000, withError=True)\n",
    "        priors.simulate()\n",
    "        priors.compute_final_probs()\n",
    "        prior_probabilities = priors.return_priors()\n",
    "        \n",
    "        # Now run the experiment\n",
    "        for NUM_MUTS in [18]:\n",
    "            total_score = 0\n",
    "            for trial in range(1000):\n",
    "                total_score += perform_experiment(NUM_CELLS, NUM_MUTS, ALPHA, prior_probabilities, error=True)\n",
    "            score = total_score/float(1000)\n",
    "            print 'For ALPHA=' + str(ALPHA) + ', NUM_CELLS=' + str(NUM_CELLS) + ', NUM_MUTS= ' + str(NUM_MUTS) + ', score=' + str(score)\n",
    "                "
   ]
  },
  {
   "cell_type": "code",
   "execution_count": null,
   "metadata": {
    "collapsed": false
   },
   "outputs": [],
   "source": [
    "# This cell evaluates all the priors with error probabilities\n",
    "reload(prior_calc)\n",
    "priors = prior_calc.prior_calculator(NUM_CELLS, ALPHA, Btree=100, Bmut=10000, withError=True)\n",
    "priors.simulate()\n",
    "priors.compute_final_probs()\n",
    "prior_probabilities = priors.return_priors()"
   ]
  },
  {
   "cell_type": "code",
   "execution_count": 45,
   "metadata": {
    "collapsed": false
   },
   "outputs": [
    {
     "name": "stdout",
     "output_type": "stream",
     "text": [
      "3.09944152832e-06\n",
      "5.76702213287\n",
      "11.4489450455\n",
      "17.0052092075\n",
      "22.5690841675\n",
      "28.2525510788\n",
      "33.8485150337\n",
      "39.6583621502\n",
      "45.5231370926\n",
      "51.0333631039\n"
     ]
    }
   ],
   "source": [
    "# This cell evaluates all the priors without error probabilities\n",
    "reload(prior_calc)\n",
    "priors_pure = prior_calc.prior_calculator(NUM_CELLS, ALPHA, Btree=100, Bmut=10000)\n",
    "priors_pure.simulate()\n",
    "priors_pure.compute_final_probs()\n",
    "prior_probabilities_pure = priors_pure.return_priors()"
   ]
  },
  {
   "cell_type": "code",
   "execution_count": 2,
   "metadata": {
    "collapsed": false
   },
   "outputs": [],
   "source": [
    "reload(generate_test_data)\n",
    "# This function assumes that the priors have been already calculated\n",
    "# for the given number of cells and the alpha value. This function performs\n",
    "# exactly 1 experiment in the following steps:\n",
    "# 1) Generate a dataset, with a \"true\" tree (along with ambiguity information)\n",
    "# 2) Construct the posteriors and our inferred tree\n",
    "# 3) Calculate how similar those two trees were, taking ambiguities into account\n",
    "def perform_experiment(num_cells, num_muts, alpha_value, prior_probs, error=False):\n",
    "    # Generate \"fake\" data to test\n",
    "    test_generator = generate_test_data.data_generator(num_cells, num_muts, alpha=alpha_value, withError=error)\n",
    "    test_generator.initialize_Tk()\n",
    "    test_generator.create_lineage_tree()\n",
    "    test_generator.apply_mutations()\n",
    "    test_data = test_generator.return_genotype_data()\n",
    "    true_tree = test_generator.construct_true_mut_tree() # true tree to be used for comparison\n",
    "    true_ambiguities = test_generator.get_ambiguities() # inherent ambiguities in true tree\n",
    "    \n",
    "    # Calculate posteriors and construct the tree\n",
    "    posteriors = posterior_calc.posterior_calculator(test_data, prior_probs, num_cells)\n",
    "    posteriors.calculate_likelihood()\n",
    "    posteriors.calculate_posteriors()\n",
    "    posterior_probabilities = posteriors.return_posteriors()\n",
    "    tree_generator = tree_generation.tree_generation(posterior_probabilities)\n",
    "    inferred_tree = tree_generator.get_min_tree()\n",
    "    \n",
    "    # Compare the true_tree and the inferred_tree and return the similarity score\n",
    "    return tree_comparison.compare_mutation_order(true_tree, inferred_tree, true_ambiguities)\n",
    "    \n",
    "    "
   ]
  },
  {
   "cell_type": "code",
   "execution_count": null,
   "metadata": {
    "collapsed": false
   },
   "outputs": [],
   "source": [
    "# This is for using Kim/Simon's true data\n",
    "mutation_data = data_reader.data_reader('data_mmc2.xlsx')\n",
    "target = ['PDE4DIP(A->G)', 'NTRK1(A->G)', 'SESN2(C->T)', 'ARHGAP5(G->A)', 'DNAJC17(C->G)', 'USP32(C->T)', \n",
    "          'ANAPC1(G->A)', 'RETSAT(C->T)', 'ST13(G->A)', 'DLEC1(T->C)', 'FRG1(G->A)', 'DMXL1(G->A)', 'FAM115C(T->C)', \n",
    "          'MLL3(C->T)', 'ABCB5(G->T)', 'ASNS(T->A)', 'PABPC1(C->T)', 'TOP1MT(A->G)']\n",
    "\n",
    "important_gene = collections.OrderedDict()\n",
    "for gene in target:\n",
    "    important_gene[gene] = mutation_data.get_gene_mutations(gene)\n",
    "data = important_gene"
   ]
  }
 ],
 "metadata": {
  "kernelspec": {
   "display_name": "Python 2",
   "language": "python",
   "name": "python2"
  },
  "language_info": {
   "codemirror_mode": {
    "name": "ipython",
    "version": 2
   },
   "file_extension": ".py",
   "mimetype": "text/x-python",
   "name": "python",
   "nbconvert_exporter": "python",
   "pygments_lexer": "ipython2",
   "version": "2.7.11"
  }
 },
 "nbformat": 4,
 "nbformat_minor": 0
}
