{
 "cells": [
  {
   "cell_type": "code",
   "execution_count": null,
   "metadata": {
    "collapsed": false
   },
   "outputs": [],
   "source": [
    "import matplotlib.pyplot as plt\n",
    "import networkx as nx\n",
    "import random as rand\n",
    "import numpy as np\n",
    "import scipy\n",
    "import prior_calc\n",
    "import posterior_calc\n",
    "import collections\n",
    "from networkx.algorithms.traversal.depth_first_search import dfs_tree\n",
    "import tree_generation\n",
    "import data_reader\n",
    "import generate_test_data\n",
    "import tree_comparison"
   ]
  },
  {
   "cell_type": "code",
   "execution_count": null,
   "metadata": {
    "collapsed": false
   },
   "outputs": [],
   "source": [
    "# Simulation\n",
    "NUM_TRIALS = 1000\n",
    "for ALPHA in []:\n",
    "    for NUM_CELLS in [58]:     \n",
    "        # Now run the experiment\n",
    "        for NUM_MUTS in [18]:\n",
    "            total_score = 0\n",
    "            for trial in range(1000):\n",
    "                total_score += random_experiment(NUM_CELLS, NUM_MUTS, ALPHA)\n",
    "            score = total_score/float(1000)\n",
    "            print 'For ALPHA=' + str(ALPHA) + ', NUM_CELLS=' + str(NUM_CELLS) + ', NUM_MUTS= ' + str(NUM_MUTS) + ', score=' + str(score)\n",
    "                "
   ]
  },
  {
   "cell_type": "code",
   "execution_count": 2,
   "metadata": {
    "collapsed": false
   },
   "outputs": [],
   "source": [
    "# Function for comparing random trees\n",
    "reload(generate_test_data)\n",
    "# This function generates two random trees and compare their similarity. This serves as a baseline for our scores,\n",
    "# and allows us to see how much better we are compared to throwing random guesses.\n",
    "# 1) Generate a dataset, with a \"true\" tree (along with ambiguity information)\n",
    "# 2) Construct the posteriors and our inferred tree\n",
    "# 3) Calculate how similar those two trees were, taking ambiguities into account\n",
    "def random_experiment(num_cells, num_muts, alpha_value):\n",
    "    # Generate \"fake\" data to test\n",
    "    test_generator = generate_test_data.data_generator(num_cells, num_muts, alpha=alpha_value)\n",
    "    test_generator.initialize_Tk()\n",
    "    test_generator.create_lineage_tree()\n",
    "    test_generator.apply_mutations()\n",
    "    true_tree = test_generator.construct_true_mut_tree() # true tree to be used for comparison\n",
    "    true_ambiguities = test_generator.get_ambiguities() # inherent ambiguities in true tree\n",
    "    \n",
    "    # Generate a random answer\n",
    "    random_pairwise_info = {}\n",
    "    for idx1 in range(num_muts):\n",
    "        for idx2 in range(idx1+1, num_muts):\n",
    "            gene_name1 = 'gene' + str(idx1)\n",
    "            gene_name2 = 'gene' + str(idx2)\n",
    "            random_pairwise_info[(gene_name1, gene_name2)] = [rand.random(), rand.random(), rand.random()]\n",
    "    random_answer_generator = tree_generation.tree_generation(random_pairwise_info)\n",
    "    random_answer = random_answer_generator.get_min_tree()\n",
    "    \n",
    "    # Compare the true_tree and the inferred_tree and return the similarity score\n",
    "    return tree_comparison.compare_mutation_order(true_tree, random_answer, true_ambiguities)\n",
    "    \n",
    "    "
   ]
  }
 ],
 "metadata": {
  "kernelspec": {
   "display_name": "Python 2",
   "language": "python",
   "name": "python2"
  },
  "language_info": {
   "codemirror_mode": {
    "name": "ipython",
    "version": 2
   },
   "file_extension": ".py",
   "mimetype": "text/x-python",
   "name": "python",
   "nbconvert_exporter": "python",
   "pygments_lexer": "ipython2",
   "version": "2.7.11"
  }
 },
 "nbformat": 4,
 "nbformat_minor": 0
}
