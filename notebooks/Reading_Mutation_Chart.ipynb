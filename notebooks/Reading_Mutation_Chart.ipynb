{
 "cells": [
  {
   "cell_type": "code",
   "execution_count": 1,
   "metadata": {
    "collapsed": false
   },
   "outputs": [],
   "source": [
    "import data_reader"
   ]
  },
  {
   "cell_type": "code",
   "execution_count": 2,
   "metadata": {
    "collapsed": false,
    "scrolled": true
   },
   "outputs": [
    {
     "name": "stderr",
     "output_type": "stream",
     "text": [
      "/Profiles/mincheol/anaconda/lib/python2.7/site-packages/openpyxl/workbook/names/named_range.py:124: UserWarning: Discarded range with reserved name\n",
      "  warnings.warn(\"Discarded range with reserved name\")\n"
     ]
    }
   ],
   "source": [
    "reload(data_reader)\n",
    "test = data_reader.data_reader('data_mmc2.xlsx')"
   ]
  },
  {
   "cell_type": "code",
   "execution_count": 8,
   "metadata": {
    "collapsed": false
   },
   "outputs": [
    {
     "name": "stdout",
     "output_type": "stream",
     "text": [
      "PDE4DIP(A->G): ['-', '-', '-', 1, 1, 0, '-', 0, '-', '-', '-', 0, '-', '-', '-', '-', '-', '-', 1, '-', '-', '-', 0, '-', 0, '-', 1, 0, '-', '-', '-', '-', '-', 1, '-', 0, '-', '-', '-', 0, '-', 0, 1, 0, 0, '-', 0, 0, 1, '-', 0, '-', '-', '-', '-', 1, 1, '-']\n"
     ]
    }
   ],
   "source": [
    "print 'TOP1MT(A->G): ' + str(test.get_gene_mutations('TOP1MT(A->G)'))\n",
    "#print test.get_gene_mutations('NTRK1(A->G)')\n",
    "#print test.get_gene_mutations('ANAPC1(G->A)')\n",
    "#print test.get_gene_mutations('FRG1(G->A)')\n",
    "#print test.get_gene_mutations('MLL3(C->T)')\n",
    "#print test.get_gene_mutations('PABPC1(C->T)')"
   ]
  },
  {
   "cell_type": "code",
   "execution_count": null,
   "metadata": {
    "collapsed": true
   },
   "outputs": [],
   "source": []
  }
 ],
 "metadata": {
  "kernelspec": {
   "display_name": "Python 2",
   "language": "python",
   "name": "python2"
  },
  "language_info": {
   "codemirror_mode": {
    "name": "ipython",
    "version": 2
   },
   "file_extension": ".py",
   "mimetype": "text/x-python",
   "name": "python",
   "nbconvert_exporter": "python",
   "pygments_lexer": "ipython2",
   "version": "2.7.11"
  }
 },
 "nbformat": 4,
 "nbformat_minor": 0
}
